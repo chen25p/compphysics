{
 "cells": [
  {
   "cell_type": "markdown",
   "id": "c5ebb8e9-1045-4695-96e2-0b8f5e74327a",
   "metadata": {},
   "source": [
    "# Riemann Summation "
   ]
  },
  {
   "cell_type": "code",
   "execution_count": 1,
   "id": "526e34d2-43f3-43ba-a17c-4980091a5cf7",
   "metadata": {},
   "outputs": [],
   "source": [
    "# Add libraries necessary \n",
    "import json\n",
    "import numpy as np\n",
    "import matplotlib.pyplot as plt\n",
    "from pylab import arange\n",
    "import matplotlib.cm as cm\n",
    "import requests\n",
    "import pandas as pd"
   ]
  },
  {
   "cell_type": "markdown",
   "id": "f0b868e3-262d-4dd7-8d0e-b6d35b096732",
   "metadata": {},
   "source": [
    "## Shell Riemann Sum Loop "
   ]
  },
  {
   "cell_type": "code",
   "execution_count": 4,
   "id": "5f8aea11-09fe-42fb-9eed-8f6981ad328a",
   "metadata": {},
   "outputs": [],
   "source": [
    "# Load data \n",
    "data = pd.read_csv('/home/jovyan/PulsarProject/sampleSummation.csv')\n",
    "\n",
    "# Data is called by: data.iat[row, col] "
   ]
  },
  {
   "cell_type": "code",
   "execution_count": 17,
   "id": "33a114e4-6c6f-48f6-ac27-82d4db773c79",
   "metadata": {},
   "outputs": [
    {
     "name": "stdout",
     "output_type": "stream",
     "text": [
      "75.0\n",
      "200.0\n",
      "375.0\n",
      "600.0\n",
      "875.0\n",
      "1200.0\n",
      "1575.0\n",
      "2000.0\n",
      "2475.0\n"
     ]
    }
   ],
   "source": [
    "# Initial \n",
    "totalarea = 0 \n",
    "i = 0\n",
    "h = 5 \n",
    "\n",
    "# Summation loop \n",
    "for i in range(9): \n",
    "    area1 = h * (data.iat[i, 1] + data.iat[i+1, 1]) / 2 \n",
    "    totalarea = totalarea + area1 \n",
    "    print(totalarea) "
   ]
  },
  {
   "cell_type": "markdown",
   "id": "53dcc2ff-2fee-435b-87dd-c331027afe6a",
   "metadata": {},
   "source": [
    "## Discrete Data Test "
   ]
  },
  {
   "cell_type": "code",
   "execution_count": 2,
   "id": "584f570d-80a4-43eb-84f4-b2cdaca9df70",
   "metadata": {},
   "outputs": [
    {
     "data": {
      "text/html": [
       "<div>\n",
       "<style scoped>\n",
       "    .dataframe tbody tr th:only-of-type {\n",
       "        vertical-align: middle;\n",
       "    }\n",
       "\n",
       "    .dataframe tbody tr th {\n",
       "        vertical-align: top;\n",
       "    }\n",
       "\n",
       "    .dataframe thead th {\n",
       "        text-align: right;\n",
       "    }\n",
       "</style>\n",
       "<table border=\"1\" class=\"dataframe\">\n",
       "  <thead>\n",
       "    <tr style=\"text-align: right;\">\n",
       "      <th></th>\n",
       "      <th>x</th>\n",
       "      <th>y</th>\n",
       "    </tr>\n",
       "  </thead>\n",
       "  <tbody>\n",
       "    <tr>\n",
       "      <th>0</th>\n",
       "      <td>-3.14</td>\n",
       "      <td>-8.87</td>\n",
       "    </tr>\n",
       "    <tr>\n",
       "      <th>1</th>\n",
       "      <td>-2.44</td>\n",
       "      <td>-4.97</td>\n",
       "    </tr>\n",
       "    <tr>\n",
       "      <th>2</th>\n",
       "      <td>-1.75</td>\n",
       "      <td>-2.05</td>\n",
       "    </tr>\n",
       "    <tr>\n",
       "      <th>3</th>\n",
       "      <td>-1.05</td>\n",
       "      <td>-0.10</td>\n",
       "    </tr>\n",
       "    <tr>\n",
       "      <th>4</th>\n",
       "      <td>-0.35</td>\n",
       "      <td>0.88</td>\n",
       "    </tr>\n",
       "  </tbody>\n",
       "</table>\n",
       "</div>"
      ],
      "text/plain": [
       "      x     y\n",
       "0 -3.14 -8.87\n",
       "1 -2.44 -4.97\n",
       "2 -1.75 -2.05\n",
       "3 -1.05 -0.10\n",
       "4 -0.35  0.88"
      ]
     },
     "execution_count": 2,
     "metadata": {},
     "output_type": "execute_result"
    }
   ],
   "source": [
    "# Load data \n",
    "data = pd.read_csv('/home/jovyan/PulsarProject/discretedata.csv')\n",
    "\n",
    "data.head()"
   ]
  },
  {
   "cell_type": "markdown",
   "id": "34a2c27a-0556-4955-8080-e44cc7868630",
   "metadata": {},
   "source": [
    "### Finding Cosine Coefficients "
   ]
  },
  {
   "cell_type": "code",
   "execution_count": 22,
   "id": "50aed5e2-997c-481c-9328-2a2e7fb4787c",
   "metadata": {},
   "outputs": [
    {
     "name": "stdout",
     "output_type": "stream",
     "text": [
      "-2.3722222222222222\n"
     ]
    }
   ],
   "source": [
    "# Initial \n",
    "totalarea = 0 \n",
    "i = 0\n",
    "h = 2*np.pi / 9 \n",
    "\n",
    "# Summation loop \n",
    "for i in range(9): \n",
    "    area1 = h * (data.iat[i, 1] + data.iat[i+1, 1]) / 2 \n",
    "    totalarea = totalarea + area1 \n",
    "\n",
    "# Calculate initial constant \n",
    "a0 = (1/(2*np.pi)) * totalarea \n",
    "print(a0)"
   ]
  },
  {
   "cell_type": "code",
   "execution_count": 16,
   "id": "ff51c16e-25a1-4551-bb30-61d2fc1ad272",
   "metadata": {},
   "outputs": [
    {
     "name": "stdout",
     "output_type": "stream",
     "text": [
      "4.165978322727179\n"
     ]
    }
   ],
   "source": [
    "# Initial \n",
    "totalarea = 0 \n",
    "i = 0\n",
    "h = 2*np.pi / 9 \n",
    "\n",
    "# Summation loop \n",
    "for i in range(9): \n",
    "    area1 = h * ((np.cos(data.iat[i, 0]) * data.iat[i, 1]) + (np.cos(data.iat[i+1, 0]) * data.iat[i+1, 1])) / 2\n",
    "    totalarea = totalarea + area1 \n",
    "\n",
    "# Calculate initial constant \n",
    "a1 = (1/(np.pi)) * totalarea \n",
    "print(a1)"
   ]
  },
  {
   "cell_type": "code",
   "execution_count": 17,
   "id": "a04eae21-0eaa-4633-bbbe-03c0ee078cd9",
   "metadata": {},
   "outputs": [
    {
     "name": "stdout",
     "output_type": "stream",
     "text": [
      "-1.1648121627199788\n"
     ]
    }
   ],
   "source": [
    "# Initial \n",
    "totalarea = 0 \n",
    "i = 0\n",
    "h = 2*np.pi / 9 \n",
    "\n",
    "# Summation loop \n",
    "for i in range(9): \n",
    "    area1 = h * ((np.cos(2 * data.iat[i, 0]) * data.iat[i, 1]) + (np.cos(2 * data.iat[i+1, 0]) * data.iat[i+1, 1])) / 2\n",
    "    totalarea = totalarea + area1 \n",
    "\n",
    "# Calculate initial constant \n",
    "a2 = (1/(np.pi)) * totalarea \n",
    "print(a2)"
   ]
  },
  {
   "cell_type": "code",
   "execution_count": 20,
   "id": "d14016fb-6504-41c4-bc50-bc8f347d6d98",
   "metadata": {},
   "outputs": [
    {
     "name": "stdout",
     "output_type": "stream",
     "text": [
      "0.6193237971188116\n"
     ]
    }
   ],
   "source": [
    "# Initial \n",
    "totalarea = 0 \n",
    "i = 0\n",
    "h = 2*np.pi / 9 \n",
    "\n",
    "# Summation loop \n",
    "for i in range(9): \n",
    "    area1 = h * ((np.cos(3 * data.iat[i, 0]) * data.iat[i, 1]) + (np.cos(3 * data.iat[i+1, 0]) * data.iat[i+1, 1])) / 2\n",
    "    totalarea = totalarea + area1 \n",
    "\n",
    "# Calculate initial constant \n",
    "a3 = (1/(np.pi)) * totalarea \n",
    "print(a3)"
   ]
  },
  {
   "cell_type": "code",
   "execution_count": 22,
   "id": "98ee83a2-33a1-42a6-8d26-409158e95c6d",
   "metadata": {},
   "outputs": [
    {
     "name": "stdout",
     "output_type": "stream",
     "text": [
      "-0.48375828546372834\n"
     ]
    }
   ],
   "source": [
    "# Initial \n",
    "totalarea = 0 \n",
    "i = 0\n",
    "h = 2*np.pi / 9 \n",
    "\n",
    "# Summation loop \n",
    "for i in range(9): \n",
    "    area1 = h * ((np.cos(4 * data.iat[i, 0]) * data.iat[i, 1]) + (np.cos(4 * data.iat[i+1, 0]) * data.iat[i+1, 1])) / 2\n",
    "    totalarea = totalarea + area1 \n",
    "\n",
    "# Calculate initial constant \n",
    "a4 = (1/(np.pi)) * totalarea \n",
    "print(a4)"
   ]
  },
  {
   "cell_type": "markdown",
   "id": "e1125f3a-4de7-4e73-a34d-727745f5cc6c",
   "metadata": {},
   "source": [
    "### Finding Sine Coefficients "
   ]
  },
  {
   "cell_type": "code",
   "execution_count": 25,
   "id": "bf0dfdd7-3087-4fe8-acb7-3636d90a9b97",
   "metadata": {},
   "outputs": [
    {
     "name": "stdout",
     "output_type": "stream",
     "text": [
      "0.0\n"
     ]
    }
   ],
   "source": [
    "# Initial \n",
    "totalarea = 0 \n",
    "i = 0\n",
    "h = 2*np.pi / 9 \n",
    "\n",
    "# Summation loop \n",
    "for i in range(9): \n",
    "    area1 = h * ((np.sin(data.iat[i, 0]) * data.iat[i, 1]) + (np.sin(data.iat[i+1, 0]) * data.iat[i+1, 1])) / 2\n",
    "    totalarea = totalarea + area1 \n",
    "\n",
    "# Calculate initial constant \n",
    "b1 = (1/(np.pi)) * totalarea \n",
    "print(b1)"
   ]
  },
  {
   "cell_type": "code",
   "execution_count": 27,
   "id": "d00079fb-8c89-4bc5-972e-9649956bcdd3",
   "metadata": {},
   "outputs": [
    {
     "name": "stdout",
     "output_type": "stream",
     "text": [
      "-0.006278587738178966\n"
     ]
    }
   ],
   "source": [
    "# Initial \n",
    "totalarea = 0 \n",
    "i = 0\n",
    "h = 2*np.pi / 9 \n",
    "\n",
    "# Summation loop \n",
    "for i in range(9): \n",
    "    area1 = h * ((np.sin(2 * data.iat[i, 0]) * data.iat[i, 1]) + (2 * np.sin(data.iat[i+1, 0]) * data.iat[i+1, 1])) / 2\n",
    "    totalarea = totalarea + area1 \n",
    "\n",
    "# Calculate initial constant \n",
    "b2 = (1/(np.pi)) * totalarea \n",
    "print(b2)"
   ]
  },
  {
   "cell_type": "code",
   "execution_count": 28,
   "id": "204efad0-c3c1-4371-9e9a-4429a8a55487",
   "metadata": {},
   "outputs": [
    {
     "name": "stdout",
     "output_type": "stream",
     "text": [
      "-1.592591964663546e-08\n"
     ]
    }
   ],
   "source": [
    "# Initial \n",
    "totalarea = 0 \n",
    "i = 0\n",
    "h = 2*np.pi / 9 \n",
    "\n",
    "# Summation loop \n",
    "for i in range(9): \n",
    "    area1 = h * ((np.sin(3 * data.iat[i, 0]) * data.iat[i, 1]) + (3 * np.sin(data.iat[i+1, 0]) * data.iat[i+1, 1])) / 2\n",
    "    totalarea = totalarea + area1 \n",
    "\n",
    "# Calculate initial constant \n",
    "b3 = (1/(np.pi)) * totalarea \n",
    "print(b3)"
   ]
  },
  {
   "cell_type": "markdown",
   "id": "bd1b539b-00c7-4f5f-ab22-be9b461dca50",
   "metadata": {},
   "source": [
    "## Graphing "
   ]
  },
  {
   "cell_type": "code",
   "execution_count": 33,
   "id": "e4e26c1c-b1db-4ce8-9aac-8e3a028ba3a9",
   "metadata": {},
   "outputs": [],
   "source": [
    "x = data['x']\n",
    "ypoints = a0 + a1 * np.cos(x) + a2 * np.cos(2 * x) + a3 * np.cos(3 * x) + a4 * np.cos(4 * x)\n",
    "actualpoints = 1 - x**2"
   ]
  },
  {
   "cell_type": "code",
   "execution_count": 34,
   "id": "d26279bf-5f66-4895-bf3d-811d544c257c",
   "metadata": {},
   "outputs": [
    {
     "data": {
      "text/plain": [
       "[<matplotlib.lines.Line2D at 0x79e5a38cbfe0>]"
      ]
     },
     "execution_count": 34,
     "metadata": {},
     "output_type": "execute_result"
    },
    {
     "data": {
      "image/png": "[encoded data removed]",
      "text/plain": [
       "<Figure size 640x480 with 1 Axes>"
      ]
     },
     "metadata": {},
     "output_type": "display_data"
    }
   ],
   "source": [
    "plt.plot(x, ypoints)\n",
    "plt.plot(x, actualpoints) "
   ]
  }
 ],
 "metadata": {
  "kernelspec": {
   "display_name": "Python 3 (ipykernel)",
   "language": "python",
   "name": "python3"
  },
  "language_info": {
   "codemirror_mode": {
    "name": "ipython",
    "version": 3
   },
   "file_extension": ".py",
   "mimetype": "text/x-python",
   "name": "python",
   "nbconvert_exporter": "python",
   "pygments_lexer": "ipython3",
   "version": "3.12.9"
  }
 },
 "nbformat": 4,
 "nbformat_minor": 5
}
